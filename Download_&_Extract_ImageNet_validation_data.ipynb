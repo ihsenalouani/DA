{
  "nbformat": 4,
  "nbformat_minor": 0,
  "metadata": {
    "colab": {
      "name": "Download_&_Extract_ImageNet_validation_data.ipynb",
      "provenance": [],
      "authorship_tag": "ABX9TyNeb1zOBkgnpNhMfJRN3Cr+",
      "include_colab_link": true
    },
    "kernelspec": {
      "name": "python3",
      "display_name": "Python 3"
    },
    "language_info": {
      "name": "python"
    }
  },
  "cells": [
    {
      "cell_type": "markdown",
      "metadata": {
        "id": "view-in-github",
        "colab_type": "text"
      },
      "source": [
        "<a href=\"https://colab.research.google.com/github/AG-X09/Defensive-Approximation/blob/main/Download_%26_Extract_ImageNet_validation_data.ipynb\" target=\"_parent\"><img src=\"https://colab.research.google.com/assets/colab-badge.svg\" alt=\"Open In Colab\"/></a>"
      ]
    },
    {
      "cell_type": "markdown",
      "metadata": {
        "id": "mQiC2tG5OT4i"
      },
      "source": [
        "1. Navigate to http://academictorrents.com/collection/imagenet-2012 and download the torrent file for the validation dataset. (ILSVRC2012_img_val.tar (about 6.7 GB))"
      ]
    },
    {
      "cell_type": "markdown",
      "metadata": {
        "id": "XUlTFjDHRGv5"
      },
      "source": [
        "2. Upload the downloaded file to your Drive"
      ]
    },
    {
      "cell_type": "markdown",
      "metadata": {
        "id": "L1RiJIQRRh3h"
      },
      "source": [
        "3. Mount Drive "
      ]
    },
    {
      "cell_type": "code",
      "metadata": {
        "id": "vMx-QSAPNkdB"
      },
      "source": [
        "from google.colab import drive\n",
        "drive.mount('/content/gdrive')"
      ],
      "execution_count": null,
      "outputs": []
    },
    {
      "cell_type": "code",
      "metadata": {
        "id": "aGp_hzRNO4TA"
      },
      "source": [
        "cd gdrive/'My Drive'/"
      ],
      "execution_count": null,
      "outputs": []
    },
    {
      "cell_type": "code",
      "metadata": {
        "id": "DOX01aeQPW8H"
      },
      "source": [
        "!cd ../"
      ],
      "execution_count": null,
      "outputs": []
    },
    {
      "cell_type": "markdown",
      "metadata": {
        "id": "8i2UQkxvPZ9Y"
      },
      "source": [
        "4. Create directory ‘val’"
      ]
    },
    {
      "cell_type": "code",
      "metadata": {
        "id": "ULPBiwCfPdZK"
      },
      "source": [
        "!mkdir val"
      ],
      "execution_count": null,
      "outputs": []
    },
    {
      "cell_type": "markdown",
      "metadata": {
        "id": "O4TYUHT5PVAj"
      },
      "source": [
        "5. Extract the validation data"
      ]
    },
    {
      "cell_type": "code",
      "metadata": {
        "id": "ezR-dxS6PiOQ"
      },
      "source": [
        "!mv ILSVRC2012_img_val.tar val/"
      ],
      "execution_count": null,
      "outputs": []
    },
    {
      "cell_type": "code",
      "metadata": {
        "id": "qjt1xPtWPqgf"
      },
      "source": [
        "cd val"
      ],
      "execution_count": null,
      "outputs": []
    },
    {
      "cell_type": "code",
      "metadata": {
        "id": "WMgJPHo8Pslo"
      },
      "source": [
        "!tar -xvf ILSVRC2012_img_val.tar"
      ],
      "execution_count": null,
      "outputs": []
    },
    {
      "cell_type": "code",
      "metadata": {
        "id": "hqBdln18P02R"
      },
      "source": [
        "!wget -qO- https://raw.githubusercontent.com/soumith/imagenetloader.torch/master/valprep.sh | bash"
      ],
      "execution_count": null,
      "outputs": []
    }
  ]
}