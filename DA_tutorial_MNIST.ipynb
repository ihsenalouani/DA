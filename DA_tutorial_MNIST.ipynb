{
  "nbformat": 4,
  "nbformat_minor": 0,
  "metadata": {
    "colab": {
      "name": "Defensive_Approximation.ipynb",
      "provenance": [],
      "include_colab_link": true
    },
    "kernelspec": {
      "name": "python3",
      "display_name": "Python 3"
    },
    "language_info": {
      "name": "python"
    },
    "widgets": {
      "application/vnd.jupyter.widget-state+json": {
        "4f7641b4d1994d9aa6e0acd1cba7c3d0": {
          "model_module": "@jupyter-widgets/controls",
          "model_name": "HBoxModel",
          "state": {
            "_view_name": "HBoxView",
            "_dom_classes": [],
            "_model_name": "HBoxModel",
            "_view_module": "@jupyter-widgets/controls",
            "_model_module_version": "1.5.0",
            "_view_count": null,
            "_view_module_version": "1.5.0",
            "box_style": "",
            "layout": "IPY_MODEL_1a7be1f21ca94026a3cb605a30d912f0",
            "_model_module": "@jupyter-widgets/controls",
            "children": [
              "IPY_MODEL_506bb8ddde1e4084b3c684983745bf95",
              "IPY_MODEL_31f72f74e9dc44f29184af16e1fad7b3"
            ]
          }
        },
        "1a7be1f21ca94026a3cb605a30d912f0": {
          "model_module": "@jupyter-widgets/base",
          "model_name": "LayoutModel",
          "state": {
            "_view_name": "LayoutView",
            "grid_template_rows": null,
            "right": null,
            "justify_content": null,
            "_view_module": "@jupyter-widgets/base",
            "overflow": null,
            "_model_module_version": "1.2.0",
            "_view_count": null,
            "flex_flow": null,
            "width": null,
            "min_width": null,
            "border": null,
            "align_items": null,
            "bottom": null,
            "_model_module": "@jupyter-widgets/base",
            "top": null,
            "grid_column": null,
            "overflow_y": null,
            "overflow_x": null,
            "grid_auto_flow": null,
            "grid_area": null,
            "grid_template_columns": null,
            "flex": null,
            "_model_name": "LayoutModel",
            "justify_items": null,
            "grid_row": null,
            "max_height": null,
            "align_content": null,
            "visibility": null,
            "align_self": null,
            "height": null,
            "min_height": null,
            "padding": null,
            "grid_auto_rows": null,
            "grid_gap": null,
            "max_width": null,
            "order": null,
            "_view_module_version": "1.2.0",
            "grid_template_areas": null,
            "object_position": null,
            "object_fit": null,
            "grid_auto_columns": null,
            "margin": null,
            "display": null,
            "left": null
          }
        },
        "506bb8ddde1e4084b3c684983745bf95": {
          "model_module": "@jupyter-widgets/controls",
          "model_name": "FloatProgressModel",
          "state": {
            "_view_name": "ProgressView",
            "style": "IPY_MODEL_ecfc57472f094eacb76aa56f54dfea03",
            "_dom_classes": [],
            "description": "",
            "_model_name": "FloatProgressModel",
            "bar_style": "success",
            "max": 9912422,
            "_view_module": "@jupyter-widgets/controls",
            "_model_module_version": "1.5.0",
            "value": 9912422,
            "_view_count": null,
            "_view_module_version": "1.5.0",
            "orientation": "horizontal",
            "min": 0,
            "description_tooltip": null,
            "_model_module": "@jupyter-widgets/controls",
            "layout": "IPY_MODEL_9a99d32c4a0c4404aa104653444735aa"
          }
        },
        "31f72f74e9dc44f29184af16e1fad7b3": {
          "model_module": "@jupyter-widgets/controls",
          "model_name": "HTMLModel",
          "state": {
            "_view_name": "HTMLView",
            "style": "IPY_MODEL_36ffd69fa3c54f6a9e5322723221a541",
            "_dom_classes": [],
            "description": "",
            "_model_name": "HTMLModel",
            "placeholder": "​",
            "_view_module": "@jupyter-widgets/controls",
            "_model_module_version": "1.5.0",
            "value": " 9913344/? [03:58&lt;00:00, 41483.90it/s]",
            "_view_count": null,
            "_view_module_version": "1.5.0",
            "description_tooltip": null,
            "_model_module": "@jupyter-widgets/controls",
            "layout": "IPY_MODEL_a1e6be5c90864332aaa71e4208afdf9a"
          }
        },
        "ecfc57472f094eacb76aa56f54dfea03": {
          "model_module": "@jupyter-widgets/controls",
          "model_name": "ProgressStyleModel",
          "state": {
            "_view_name": "StyleView",
            "_model_name": "ProgressStyleModel",
            "description_width": "initial",
            "_view_module": "@jupyter-widgets/base",
            "_model_module_version": "1.5.0",
            "_view_count": null,
            "_view_module_version": "1.2.0",
            "bar_color": null,
            "_model_module": "@jupyter-widgets/controls"
          }
        },
        "9a99d32c4a0c4404aa104653444735aa": {
          "model_module": "@jupyter-widgets/base",
          "model_name": "LayoutModel",
          "state": {
            "_view_name": "LayoutView",
            "grid_template_rows": null,
            "right": null,
            "justify_content": null,
            "_view_module": "@jupyter-widgets/base",
            "overflow": null,
            "_model_module_version": "1.2.0",
            "_view_count": null,
            "flex_flow": null,
            "width": null,
            "min_width": null,
            "border": null,
            "align_items": null,
            "bottom": null,
            "_model_module": "@jupyter-widgets/base",
            "top": null,
            "grid_column": null,
            "overflow_y": null,
            "overflow_x": null,
            "grid_auto_flow": null,
            "grid_area": null,
            "grid_template_columns": null,
            "flex": null,
            "_model_name": "LayoutModel",
            "justify_items": null,
            "grid_row": null,
            "max_height": null,
            "align_content": null,
            "visibility": null,
            "align_self": null,
            "height": null,
            "min_height": null,
            "padding": null,
            "grid_auto_rows": null,
            "grid_gap": null,
            "max_width": null,
            "order": null,
            "_view_module_version": "1.2.0",
            "grid_template_areas": null,
            "object_position": null,
            "object_fit": null,
            "grid_auto_columns": null,
            "margin": null,
            "display": null,
            "left": null
          }
        },
        "36ffd69fa3c54f6a9e5322723221a541": {
          "model_module": "@jupyter-widgets/controls",
          "model_name": "DescriptionStyleModel",
          "state": {
            "_view_name": "StyleView",
            "_model_name": "DescriptionStyleModel",
            "description_width": "",
            "_view_module": "@jupyter-widgets/base",
            "_model_module_version": "1.5.0",
            "_view_count": null,
            "_view_module_version": "1.2.0",
            "_model_module": "@jupyter-widgets/controls"
          }
        },
        "a1e6be5c90864332aaa71e4208afdf9a": {
          "model_module": "@jupyter-widgets/base",
          "model_name": "LayoutModel",
          "state": {
            "_view_name": "LayoutView",
            "grid_template_rows": null,
            "right": null,
            "justify_content": null,
            "_view_module": "@jupyter-widgets/base",
            "overflow": null,
            "_model_module_version": "1.2.0",
            "_view_count": null,
            "flex_flow": null,
            "width": null,
            "min_width": null,
            "border": null,
            "align_items": null,
            "bottom": null,
            "_model_module": "@jupyter-widgets/base",
            "top": null,
            "grid_column": null,
            "overflow_y": null,
            "overflow_x": null,
            "grid_auto_flow": null,
            "grid_area": null,
            "grid_template_columns": null,
            "flex": null,
            "_model_name": "LayoutModel",
            "justify_items": null,
            "grid_row": null,
            "max_height": null,
            "align_content": null,
            "visibility": null,
            "align_self": null,
            "height": null,
            "min_height": null,
            "padding": null,
            "grid_auto_rows": null,
            "grid_gap": null,
            "max_width": null,
            "order": null,
            "_view_module_version": "1.2.0",
            "grid_template_areas": null,
            "object_position": null,
            "object_fit": null,
            "grid_auto_columns": null,
            "margin": null,
            "display": null,
            "left": null
          }
        },
        "5fb5d0f14c314a90aa55bd8cae97ac61": {
          "model_module": "@jupyter-widgets/controls",
          "model_name": "HBoxModel",
          "state": {
            "_view_name": "HBoxView",
            "_dom_classes": [],
            "_model_name": "HBoxModel",
            "_view_module": "@jupyter-widgets/controls",
            "_model_module_version": "1.5.0",
            "_view_count": null,
            "_view_module_version": "1.5.0",
            "box_style": "",
            "layout": "IPY_MODEL_2922f6ee7619425d86efb35404a644dd",
            "_model_module": "@jupyter-widgets/controls",
            "children": [
              "IPY_MODEL_23eab25e0bba4dfea586f72e1fa2fd59",
              "IPY_MODEL_596208ccaac34d2eaab1b6a262e9332b"
            ]
          }
        },
        "2922f6ee7619425d86efb35404a644dd": {
          "model_module": "@jupyter-widgets/base",
          "model_name": "LayoutModel",
          "state": {
            "_view_name": "LayoutView",
            "grid_template_rows": null,
            "right": null,
            "justify_content": null,
            "_view_module": "@jupyter-widgets/base",
            "overflow": null,
            "_model_module_version": "1.2.0",
            "_view_count": null,
            "flex_flow": null,
            "width": null,
            "min_width": null,
            "border": null,
            "align_items": null,
            "bottom": null,
            "_model_module": "@jupyter-widgets/base",
            "top": null,
            "grid_column": null,
            "overflow_y": null,
            "overflow_x": null,
            "grid_auto_flow": null,
            "grid_area": null,
            "grid_template_columns": null,
            "flex": null,
            "_model_name": "LayoutModel",
            "justify_items": null,
            "grid_row": null,
            "max_height": null,
            "align_content": null,
            "visibility": null,
            "align_self": null,
            "height": null,
            "min_height": null,
            "padding": null,
            "grid_auto_rows": null,
            "grid_gap": null,
            "max_width": null,
            "order": null,
            "_view_module_version": "1.2.0",
            "grid_template_areas": null,
            "object_position": null,
            "object_fit": null,
            "grid_auto_columns": null,
            "margin": null,
            "display": null,
            "left": null
          }
        },
        "23eab25e0bba4dfea586f72e1fa2fd59": {
          "model_module": "@jupyter-widgets/controls",
          "model_name": "FloatProgressModel",
          "state": {
            "_view_name": "ProgressView",
            "style": "IPY_MODEL_7bde53c1661444018f3ae3192b3c1551",
            "_dom_classes": [],
            "description": "",
            "_model_name": "FloatProgressModel",
            "bar_style": "success",
            "max": 28881,
            "_view_module": "@jupyter-widgets/controls",
            "_model_module_version": "1.5.0",
            "value": 28881,
            "_view_count": null,
            "_view_module_version": "1.5.0",
            "orientation": "horizontal",
            "min": 0,
            "description_tooltip": null,
            "_model_module": "@jupyter-widgets/controls",
            "layout": "IPY_MODEL_82e5d44c098e4721bbfd5192e2357e80"
          }
        },
        "596208ccaac34d2eaab1b6a262e9332b": {
          "model_module": "@jupyter-widgets/controls",
          "model_name": "HTMLModel",
          "state": {
            "_view_name": "HTMLView",
            "style": "IPY_MODEL_ffb265aed3ae417f9f36dbd6f39d1632",
            "_dom_classes": [],
            "description": "",
            "_model_name": "HTMLModel",
            "placeholder": "​",
            "_view_module": "@jupyter-widgets/controls",
            "_model_module_version": "1.5.0",
            "value": " 29696/? [00:00&lt;00:00, 157586.96it/s]",
            "_view_count": null,
            "_view_module_version": "1.5.0",
            "description_tooltip": null,
            "_model_module": "@jupyter-widgets/controls",
            "layout": "IPY_MODEL_2415001c6847411faf677f9a483701c9"
          }
        },
        "7bde53c1661444018f3ae3192b3c1551": {
          "model_module": "@jupyter-widgets/controls",
          "model_name": "ProgressStyleModel",
          "state": {
            "_view_name": "StyleView",
            "_model_name": "ProgressStyleModel",
            "description_width": "initial",
            "_view_module": "@jupyter-widgets/base",
            "_model_module_version": "1.5.0",
            "_view_count": null,
            "_view_module_version": "1.2.0",
            "bar_color": null,
            "_model_module": "@jupyter-widgets/controls"
          }
        },
        "82e5d44c098e4721bbfd5192e2357e80": {
          "model_module": "@jupyter-widgets/base",
          "model_name": "LayoutModel",
          "state": {
            "_view_name": "LayoutView",
            "grid_template_rows": null,
            "right": null,
            "justify_content": null,
            "_view_module": "@jupyter-widgets/base",
            "overflow": null,
            "_model_module_version": "1.2.0",
            "_view_count": null,
            "flex_flow": null,
            "width": null,
            "min_width": null,
            "border": null,
            "align_items": null,
            "bottom": null,
            "_model_module": "@jupyter-widgets/base",
            "top": null,
            "grid_column": null,
            "overflow_y": null,
            "overflow_x": null,
            "grid_auto_flow": null,
            "grid_area": null,
            "grid_template_columns": null,
            "flex": null,
            "_model_name": "LayoutModel",
            "justify_items": null,
            "grid_row": null,
            "max_height": null,
            "align_content": null,
            "visibility": null,
            "align_self": null,
            "height": null,
            "min_height": null,
            "padding": null,
            "grid_auto_rows": null,
            "grid_gap": null,
            "max_width": null,
            "order": null,
            "_view_module_version": "1.2.0",
            "grid_template_areas": null,
            "object_position": null,
            "object_fit": null,
            "grid_auto_columns": null,
            "margin": null,
            "display": null,
            "left": null
          }
        },
        "ffb265aed3ae417f9f36dbd6f39d1632": {
          "model_module": "@jupyter-widgets/controls",
          "model_name": "DescriptionStyleModel",
          "state": {
            "_view_name": "StyleView",
            "_model_name": "DescriptionStyleModel",
            "description_width": "",
            "_view_module": "@jupyter-widgets/base",
            "_model_module_version": "1.5.0",
            "_view_count": null,
            "_view_module_version": "1.2.0",
            "_model_module": "@jupyter-widgets/controls"
          }
        },
        "2415001c6847411faf677f9a483701c9": {
          "model_module": "@jupyter-widgets/base",
          "model_name": "LayoutModel",
          "state": {
            "_view_name": "LayoutView",
            "grid_template_rows": null,
            "right": null,
            "justify_content": null,
            "_view_module": "@jupyter-widgets/base",
            "overflow": null,
            "_model_module_version": "1.2.0",
            "_view_count": null,
            "flex_flow": null,
            "width": null,
            "min_width": null,
            "border": null,
            "align_items": null,
            "bottom": null,
            "_model_module": "@jupyter-widgets/base",
            "top": null,
            "grid_column": null,
            "overflow_y": null,
            "overflow_x": null,
            "grid_auto_flow": null,
            "grid_area": null,
            "grid_template_columns": null,
            "flex": null,
            "_model_name": "LayoutModel",
            "justify_items": null,
            "grid_row": null,
            "max_height": null,
            "align_content": null,
            "visibility": null,
            "align_self": null,
            "height": null,
            "min_height": null,
            "padding": null,
            "grid_auto_rows": null,
            "grid_gap": null,
            "max_width": null,
            "order": null,
            "_view_module_version": "1.2.0",
            "grid_template_areas": null,
            "object_position": null,
            "object_fit": null,
            "grid_auto_columns": null,
            "margin": null,
            "display": null,
            "left": null
          }
        },
        "e16537cd9a014951bb77bfb4dc7aebd1": {
          "model_module": "@jupyter-widgets/controls",
          "model_name": "HBoxModel",
          "state": {
            "_view_name": "HBoxView",
            "_dom_classes": [],
            "_model_name": "HBoxModel",
            "_view_module": "@jupyter-widgets/controls",
            "_model_module_version": "1.5.0",
            "_view_count": null,
            "_view_module_version": "1.5.0",
            "box_style": "",
            "layout": "IPY_MODEL_5c04541fba5d456c922c409e623cc5c6",
            "_model_module": "@jupyter-widgets/controls",
            "children": [
              "IPY_MODEL_9c683303b05c45378058be923dc9be79",
              "IPY_MODEL_30626ea4103d40e496cbbca35563be6f"
            ]
          }
        },
        "5c04541fba5d456c922c409e623cc5c6": {
          "model_module": "@jupyter-widgets/base",
          "model_name": "LayoutModel",
          "state": {
            "_view_name": "LayoutView",
            "grid_template_rows": null,
            "right": null,
            "justify_content": null,
            "_view_module": "@jupyter-widgets/base",
            "overflow": null,
            "_model_module_version": "1.2.0",
            "_view_count": null,
            "flex_flow": null,
            "width": null,
            "min_width": null,
            "border": null,
            "align_items": null,
            "bottom": null,
            "_model_module": "@jupyter-widgets/base",
            "top": null,
            "grid_column": null,
            "overflow_y": null,
            "overflow_x": null,
            "grid_auto_flow": null,
            "grid_area": null,
            "grid_template_columns": null,
            "flex": null,
            "_model_name": "LayoutModel",
            "justify_items": null,
            "grid_row": null,
            "max_height": null,
            "align_content": null,
            "visibility": null,
            "align_self": null,
            "height": null,
            "min_height": null,
            "padding": null,
            "grid_auto_rows": null,
            "grid_gap": null,
            "max_width": null,
            "order": null,
            "_view_module_version": "1.2.0",
            "grid_template_areas": null,
            "object_position": null,
            "object_fit": null,
            "grid_auto_columns": null,
            "margin": null,
            "display": null,
            "left": null
          }
        },
        "9c683303b05c45378058be923dc9be79": {
          "model_module": "@jupyter-widgets/controls",
          "model_name": "FloatProgressModel",
          "state": {
            "_view_name": "ProgressView",
            "style": "IPY_MODEL_bd025706665f4c718924304fe827ef6f",
            "_dom_classes": [],
            "description": "",
            "_model_name": "FloatProgressModel",
            "bar_style": "success",
            "max": 1648877,
            "_view_module": "@jupyter-widgets/controls",
            "_model_module_version": "1.5.0",
            "value": 1648877,
            "_view_count": null,
            "_view_module_version": "1.5.0",
            "orientation": "horizontal",
            "min": 0,
            "description_tooltip": null,
            "_model_module": "@jupyter-widgets/controls",
            "layout": "IPY_MODEL_a8621dd98fed455f81ebc3f79a176cc9"
          }
        },
        "30626ea4103d40e496cbbca35563be6f": {
          "model_module": "@jupyter-widgets/controls",
          "model_name": "HTMLModel",
          "state": {
            "_view_name": "HTMLView",
            "style": "IPY_MODEL_7127ac4dc76b4d628558f3559b8a7e7a",
            "_dom_classes": [],
            "description": "",
            "_model_name": "HTMLModel",
            "placeholder": "​",
            "_view_module": "@jupyter-widgets/controls",
            "_model_module_version": "1.5.0",
            "value": " 1649664/? [00:45&lt;00:00, 36268.18it/s]",
            "_view_count": null,
            "_view_module_version": "1.5.0",
            "description_tooltip": null,
            "_model_module": "@jupyter-widgets/controls",
            "layout": "IPY_MODEL_8509851286a6469089dcdc3e1a216c1d"
          }
        },
        "bd025706665f4c718924304fe827ef6f": {
          "model_module": "@jupyter-widgets/controls",
          "model_name": "ProgressStyleModel",
          "state": {
            "_view_name": "StyleView",
            "_model_name": "ProgressStyleModel",
            "description_width": "initial",
            "_view_module": "@jupyter-widgets/base",
            "_model_module_version": "1.5.0",
            "_view_count": null,
            "_view_module_version": "1.2.0",
            "bar_color": null,
            "_model_module": "@jupyter-widgets/controls"
          }
        },
        "a8621dd98fed455f81ebc3f79a176cc9": {
          "model_module": "@jupyter-widgets/base",
          "model_name": "LayoutModel",
          "state": {
            "_view_name": "LayoutView",
            "grid_template_rows": null,
            "right": null,
            "justify_content": null,
            "_view_module": "@jupyter-widgets/base",
            "overflow": null,
            "_model_module_version": "1.2.0",
            "_view_count": null,
            "flex_flow": null,
            "width": null,
            "min_width": null,
            "border": null,
            "align_items": null,
            "bottom": null,
            "_model_module": "@jupyter-widgets/base",
            "top": null,
            "grid_column": null,
            "overflow_y": null,
            "overflow_x": null,
            "grid_auto_flow": null,
            "grid_area": null,
            "grid_template_columns": null,
            "flex": null,
            "_model_name": "LayoutModel",
            "justify_items": null,
            "grid_row": null,
            "max_height": null,
            "align_content": null,
            "visibility": null,
            "align_self": null,
            "height": null,
            "min_height": null,
            "padding": null,
            "grid_auto_rows": null,
            "grid_gap": null,
            "max_width": null,
            "order": null,
            "_view_module_version": "1.2.0",
            "grid_template_areas": null,
            "object_position": null,
            "object_fit": null,
            "grid_auto_columns": null,
            "margin": null,
            "display": null,
            "left": null
          }
        },
        "7127ac4dc76b4d628558f3559b8a7e7a": {
          "model_module": "@jupyter-widgets/controls",
          "model_name": "DescriptionStyleModel",
          "state": {
            "_view_name": "StyleView",
            "_model_name": "DescriptionStyleModel",
            "description_width": "",
            "_view_module": "@jupyter-widgets/base",
            "_model_module_version": "1.5.0",
            "_view_count": null,
            "_view_module_version": "1.2.0",
            "_model_module": "@jupyter-widgets/controls"
          }
        },
        "8509851286a6469089dcdc3e1a216c1d": {
          "model_module": "@jupyter-widgets/base",
          "model_name": "LayoutModel",
          "state": {
            "_view_name": "LayoutView",
            "grid_template_rows": null,
            "right": null,
            "justify_content": null,
            "_view_module": "@jupyter-widgets/base",
            "overflow": null,
            "_model_module_version": "1.2.0",
            "_view_count": null,
            "flex_flow": null,
            "width": null,
            "min_width": null,
            "border": null,
            "align_items": null,
            "bottom": null,
            "_model_module": "@jupyter-widgets/base",
            "top": null,
            "grid_column": null,
            "overflow_y": null,
            "overflow_x": null,
            "grid_auto_flow": null,
            "grid_area": null,
            "grid_template_columns": null,
            "flex": null,
            "_model_name": "LayoutModel",
            "justify_items": null,
            "grid_row": null,
            "max_height": null,
            "align_content": null,
            "visibility": null,
            "align_self": null,
            "height": null,
            "min_height": null,
            "padding": null,
            "grid_auto_rows": null,
            "grid_gap": null,
            "max_width": null,
            "order": null,
            "_view_module_version": "1.2.0",
            "grid_template_areas": null,
            "object_position": null,
            "object_fit": null,
            "grid_auto_columns": null,
            "margin": null,
            "display": null,
            "left": null
          }
        },
        "df3663de4dad4aac916c8e7e59bec8e5": {
          "model_module": "@jupyter-widgets/controls",
          "model_name": "HBoxModel",
          "state": {
            "_view_name": "HBoxView",
            "_dom_classes": [],
            "_model_name": "HBoxModel",
            "_view_module": "@jupyter-widgets/controls",
            "_model_module_version": "1.5.0",
            "_view_count": null,
            "_view_module_version": "1.5.0",
            "box_style": "",
            "layout": "IPY_MODEL_6716b8273f3e49d7abb87bc320685b95",
            "_model_module": "@jupyter-widgets/controls",
            "children": [
              "IPY_MODEL_b03292c5dde14fd08b540da9f44e33b1",
              "IPY_MODEL_8b751541995047c28aa626b71ab7b61f"
            ]
          }
        },
        "6716b8273f3e49d7abb87bc320685b95": {
          "model_module": "@jupyter-widgets/base",
          "model_name": "LayoutModel",
          "state": {
            "_view_name": "LayoutView",
            "grid_template_rows": null,
            "right": null,
            "justify_content": null,
            "_view_module": "@jupyter-widgets/base",
            "overflow": null,
            "_model_module_version": "1.2.0",
            "_view_count": null,
            "flex_flow": null,
            "width": null,
            "min_width": null,
            "border": null,
            "align_items": null,
            "bottom": null,
            "_model_module": "@jupyter-widgets/base",
            "top": null,
            "grid_column": null,
            "overflow_y": null,
            "overflow_x": null,
            "grid_auto_flow": null,
            "grid_area": null,
            "grid_template_columns": null,
            "flex": null,
            "_model_name": "LayoutModel",
            "justify_items": null,
            "grid_row": null,
            "max_height": null,
            "align_content": null,
            "visibility": null,
            "align_self": null,
            "height": null,
            "min_height": null,
            "padding": null,
            "grid_auto_rows": null,
            "grid_gap": null,
            "max_width": null,
            "order": null,
            "_view_module_version": "1.2.0",
            "grid_template_areas": null,
            "object_position": null,
            "object_fit": null,
            "grid_auto_columns": null,
            "margin": null,
            "display": null,
            "left": null
          }
        },
        "b03292c5dde14fd08b540da9f44e33b1": {
          "model_module": "@jupyter-widgets/controls",
          "model_name": "FloatProgressModel",
          "state": {
            "_view_name": "ProgressView",
            "style": "IPY_MODEL_5ff0087398144d20b1633031dbedda90",
            "_dom_classes": [],
            "description": "",
            "_model_name": "FloatProgressModel",
            "bar_style": "success",
            "max": 4542,
            "_view_module": "@jupyter-widgets/controls",
            "_model_module_version": "1.5.0",
            "value": 4542,
            "_view_count": null,
            "_view_module_version": "1.5.0",
            "orientation": "horizontal",
            "min": 0,
            "description_tooltip": null,
            "_model_module": "@jupyter-widgets/controls",
            "layout": "IPY_MODEL_0b87596296ea437a8f0378fe521c091d"
          }
        },
        "8b751541995047c28aa626b71ab7b61f": {
          "model_module": "@jupyter-widgets/controls",
          "model_name": "HTMLModel",
          "state": {
            "_view_name": "HTMLView",
            "style": "IPY_MODEL_87b92e86d2654970a964770523d73aff",
            "_dom_classes": [],
            "description": "",
            "_model_name": "HTMLModel",
            "placeholder": "​",
            "_view_module": "@jupyter-widgets/controls",
            "_model_module_version": "1.5.0",
            "value": " 5120/? [00:00&lt;00:00, 25965.55it/s]",
            "_view_count": null,
            "_view_module_version": "1.5.0",
            "description_tooltip": null,
            "_model_module": "@jupyter-widgets/controls",
            "layout": "IPY_MODEL_823118b915a84ff1849c0bdd2eb3c526"
          }
        },
        "5ff0087398144d20b1633031dbedda90": {
          "model_module": "@jupyter-widgets/controls",
          "model_name": "ProgressStyleModel",
          "state": {
            "_view_name": "StyleView",
            "_model_name": "ProgressStyleModel",
            "description_width": "initial",
            "_view_module": "@jupyter-widgets/base",
            "_model_module_version": "1.5.0",
            "_view_count": null,
            "_view_module_version": "1.2.0",
            "bar_color": null,
            "_model_module": "@jupyter-widgets/controls"
          }
        },
        "0b87596296ea437a8f0378fe521c091d": {
          "model_module": "@jupyter-widgets/base",
          "model_name": "LayoutModel",
          "state": {
            "_view_name": "LayoutView",
            "grid_template_rows": null,
            "right": null,
            "justify_content": null,
            "_view_module": "@jupyter-widgets/base",
            "overflow": null,
            "_model_module_version": "1.2.0",
            "_view_count": null,
            "flex_flow": null,
            "width": null,
            "min_width": null,
            "border": null,
            "align_items": null,
            "bottom": null,
            "_model_module": "@jupyter-widgets/base",
            "top": null,
            "grid_column": null,
            "overflow_y": null,
            "overflow_x": null,
            "grid_auto_flow": null,
            "grid_area": null,
            "grid_template_columns": null,
            "flex": null,
            "_model_name": "LayoutModel",
            "justify_items": null,
            "grid_row": null,
            "max_height": null,
            "align_content": null,
            "visibility": null,
            "align_self": null,
            "height": null,
            "min_height": null,
            "padding": null,
            "grid_auto_rows": null,
            "grid_gap": null,
            "max_width": null,
            "order": null,
            "_view_module_version": "1.2.0",
            "grid_template_areas": null,
            "object_position": null,
            "object_fit": null,
            "grid_auto_columns": null,
            "margin": null,
            "display": null,
            "left": null
          }
        },
        "87b92e86d2654970a964770523d73aff": {
          "model_module": "@jupyter-widgets/controls",
          "model_name": "DescriptionStyleModel",
          "state": {
            "_view_name": "StyleView",
            "_model_name": "DescriptionStyleModel",
            "description_width": "",
            "_view_module": "@jupyter-widgets/base",
            "_model_module_version": "1.5.0",
            "_view_count": null,
            "_view_module_version": "1.2.0",
            "_model_module": "@jupyter-widgets/controls"
          }
        },
        "823118b915a84ff1849c0bdd2eb3c526": {
          "model_module": "@jupyter-widgets/base",
          "model_name": "LayoutModel",
          "state": {
            "_view_name": "LayoutView",
            "grid_template_rows": null,
            "right": null,
            "justify_content": null,
            "_view_module": "@jupyter-widgets/base",
            "overflow": null,
            "_model_module_version": "1.2.0",
            "_view_count": null,
            "flex_flow": null,
            "width": null,
            "min_width": null,
            "border": null,
            "align_items": null,
            "bottom": null,
            "_model_module": "@jupyter-widgets/base",
            "top": null,
            "grid_column": null,
            "overflow_y": null,
            "overflow_x": null,
            "grid_auto_flow": null,
            "grid_area": null,
            "grid_template_columns": null,
            "flex": null,
            "_model_name": "LayoutModel",
            "justify_items": null,
            "grid_row": null,
            "max_height": null,
            "align_content": null,
            "visibility": null,
            "align_self": null,
            "height": null,
            "min_height": null,
            "padding": null,
            "grid_auto_rows": null,
            "grid_gap": null,
            "max_width": null,
            "order": null,
            "_view_module_version": "1.2.0",
            "grid_template_areas": null,
            "object_position": null,
            "object_fit": null,
            "grid_auto_columns": null,
            "margin": null,
            "display": null,
            "left": null
          }
        }
      }
    }
  },
  "cells": [
    {
      "cell_type": "markdown",
      "metadata": {
        "id": "view-in-github",
        "colab_type": "text"
      },
      "source": [
        "<a href=\"https://colab.research.google.com/github/AG-X09/Defensive-Approximation/blob/main/Defensive_Approximation.ipynb\" target=\"_parent\"><img src=\"https://colab.research.google.com/assets/colab-badge.svg\" alt=\"Open In Colab\"/></a>"
      ]
    },
    {
      "cell_type": "markdown",
      "metadata": {
        "id": "o5O1TLDmZlWa"
      },
      "source": [
        "# Approximate floating point multiplier (Ax-FPM)"
      ]
    },
    {
      "cell_type": "code",
      "metadata": {
        "id": "lqxzyZivcjMp"
      },
      "source": [
        "#Approximate 4x4 array multiplier (using the approximate mirror adder AMA5)\n",
        "def appx_multiplier4x4_AMA5(A,B):\n",
        "\n",
        "    S = 0\n",
        "    if (A == 0) or (B == 0):\n",
        "        S = 0\n",
        "    elif (A == 1):\n",
        "        S = B\n",
        "    elif (A % 2 == 0) & (A>1):\n",
        "        if (B < 8): \n",
        "            S = 0\n",
        "        else:\n",
        "            S = 32 * (A/2)\n",
        "    else:\n",
        "        if (B < 8): \n",
        "            S = B\n",
        "        else:\n",
        "            S = B + 32 * (A-1)/2\n",
        "    return S  "
      ],
      "execution_count": null,
      "outputs": []
    },
    {
      "cell_type": "code",
      "metadata": {
        "id": "rlRB88DPctDF"
      },
      "source": [
        " #Approximate 8x8 array multiplier\n",
        "def appx_multiplier8x8(a,b):\n",
        "\n",
        "    a0b0 = appx_multiplier4x4_AMA5(int(a[4:8],2), int(b[4:8],2))\n",
        "    a1b0 = appx_multiplier4x4_AMA5(int(a[0:4],2), int(b[4:8],2))\n",
        "    a0b1 = appx_multiplier4x4_AMA5(int(a[4:8],2), int(b[0:4],2))\n",
        "    a1b1 = appx_multiplier4x4_AMA5(int(a[0:4],2), int(b[0:4],2))\n",
        "    S = (a0b0 + (a1b0 + a0b1)*16 + a1b1*256) \n",
        "    S = format(int(S), '016b')\n",
        "    return S"
      ],
      "execution_count": null,
      "outputs": []
    },
    {
      "cell_type": "code",
      "metadata": {
        "id": "c61mRxRPcxbW"
      },
      "source": [
        "#Approximate 24x24 array multiplier    \n",
        "def appx_multiplier24x24(a,b):\n",
        "    a0 = a[16:24]\n",
        "    a1 = a[8:16]\n",
        "    a2 = a[0:8]\n",
        "    b0 = b[16:24]\n",
        "    b1 = b[8:16]\n",
        "    b2 = b[0:8]\n",
        "    \n",
        "    a0b0 = int(appx_multiplier8x8(a0,b0),2)\n",
        "    a1b0 = int(appx_multiplier8x8(a1,b0),2)*256\n",
        "    a2b0 = int(appx_multiplier8x8(a2,b0),2)*256*256\n",
        "    a0b1 = int(appx_multiplier8x8(a0,b1),2)*256\n",
        "    a1b1 = int(appx_multiplier8x8(a1,b1),2)*256*256\n",
        "    a2b1 = int(appx_multiplier8x8(a2,b1),2)*256*256*256\n",
        "    a0b2 = int(appx_multiplier8x8(a0,b2),2)*256*256\n",
        "    a1b2 = int(appx_multiplier8x8(a1,b2),2)*256*256*256\n",
        "    a2b2 = int(appx_multiplier8x8(a2,b2),2)*256*256*256*256\n",
        "    \n",
        "    S = a0b0 + a1b0 + a2b0 + a0b1 + a1b1 + a2b1 + a0b2 + a1b2 + a2b2\n",
        "    S = format(S, '048b')\n",
        "    #print(S)\n",
        "\n",
        "    return S"
      ],
      "execution_count": null,
      "outputs": []
    },
    {
      "cell_type": "code",
      "metadata": {
        "id": "8BjM6Y-Vc0WI"
      },
      "source": [
        "#Convert Decimal number to Floating Point number\n",
        "import struct\n",
        "def dec2FP(num):\n",
        "    s = ''.join(bin(c).replace('0b', '').rjust(8, '0') for c in struct.pack('!f', num))    \n",
        "    return s"
      ],
      "execution_count": null,
      "outputs": []
    },
    {
      "cell_type": "code",
      "metadata": {
        "id": "aSNB0fqRc2aA"
      },
      "source": [
        "#Convert Floating Point number to Decimal number\n",
        "def FP2dec(n):\n",
        "    #add subnormal numbers, for NaNs, for +/- infinity\n",
        "    s = struct.unpack('!f',struct.pack('!I', int(n, 2)))[0]\n",
        "    return s"
      ],
      "execution_count": null,
      "outputs": []
    },
    {
      "cell_type": "code",
      "metadata": {
        "id": "s7MEzxwKacb3"
      },
      "source": [
        "#Approximate Floating Point multiplier    \n",
        "def FP_appx_mul(A,B):\n",
        "    if (abs(A)<1e-36) or (abs(B)<1e-36) or (A == 0) or (B==0):\n",
        "        s = 0\n",
        "    else:\n",
        "        S = ['0','00000000','00000000000000000000000']\n",
        "        a = dec2FP(A)\n",
        "        b = dec2FP(B)\n",
        "        sign_ab = int(a[0])^int(b[0])\n",
        "        exponent_a = a[1:9]\n",
        "        if int(exponent_a,2)>255:\n",
        "            exponent_a = 255\n",
        "        exponent_b = b[1:9]\n",
        "        if int(exponent_a,2)>255:\n",
        "            exponent_b = 255\n",
        "        exponent_ab = int(exponent_a,2) + int(exponent_b,2) - 127\n",
        "        if exponent_ab>255:\n",
        "            exponent_ab = 255\n",
        "        mantissa_ab = appx_multiplier24x24('1'+ a[9:32],'1'+ b[9:32])\n",
        "        if mantissa_ab[0] == '1':\n",
        "            final_mantissa = mantissa_ab[1:24]\n",
        "            exponent_ab = exponent_ab + 1\n",
        "        else:\n",
        "            final_mantissa = mantissa_ab[2:25]\n",
        "        S = [str(sign_ab), format(exponent_ab,'08b'), final_mantissa]\n",
        "        S = ''.join(S)  \n",
        "        s = FP2dec(S)\n",
        "    return s "
      ],
      "execution_count": null,
      "outputs": []
    },
    {
      "cell_type": "markdown",
      "metadata": {
        "id": "c3nUstTOfSmU"
      },
      "source": [
        "Test the Ax-FPM"
      ]
    },
    {
      "cell_type": "code",
      "metadata": {
        "colab": {
          "base_uri": "https://localhost:8080/"
        },
        "id": "zh37LqrCfVMp",
        "outputId": "3a473f12-44a9-4818-d1e6-33d31d0e9c62"
      },
      "source": [
        "x = 0.856\n",
        "y = 0.471\n",
        "print(\"Conventional multiplication\", x*y)\n",
        "print(\"Approximate multiplication using the Ax-FPM\", FP_appx_mul(x,y))"
      ],
      "execution_count": null,
      "outputs": [
        {
          "output_type": "stream",
          "text": [
            "Conventional multiplication 0.403176\n",
            "Approximate multiplication using the Ax-FPM 0.426080584526062\n"
          ],
          "name": "stdout"
        }
      ]
    },
    {
      "cell_type": "markdown",
      "metadata": {
        "id": "QQHXVyhce_nc"
      },
      "source": [
        "# Approximate Convolution Layer (accelerated using Joblib Parallel)"
      ]
    },
    {
      "cell_type": "code",
      "metadata": {
        "id": "E16fetZHafSH"
      },
      "source": [
        "import torch\n",
        "import torch.nn as nn\n",
        "import numpy as np\n",
        "from joblib import Parallel, delayed\n",
        "import torch.nn.functional as F\n",
        "\n",
        "class convAppx(torch.autograd.Function):\n",
        "\n",
        "    @staticmethod\n",
        "    def forward(ctx, X, weight, bias, padding, stride):\n",
        "        #confs = torch.from_numpy(np.array([stride[0], padding[0]]))\n",
        "\n",
        "        ctx.save_for_backward(X, weight, bias)        \n",
        "        (m, n_C_prev, n_H_prev, n_W_prev) = X.shape\n",
        "        (n_C, n_C_prev, f, f) = weight.shape\n",
        "\n",
        "        n_H = ((n_H_prev - f + 2 * padding[0]) // stride[0]) + 1\n",
        "        n_W = ((n_W_prev - f + 2 * padding[0]) // stride[0]) + 1\n",
        "\n",
        "        def appx_mul(A,B):\n",
        "            window = np.zeros((A.shape))\n",
        "            for l in range(A.shape[0]):\n",
        "              for j in range(A.shape[1]):\n",
        "                for k in range(A.shape[2]):\n",
        "                  window[l,j,k] = FP_appx_mul(A[l,j,k],B[l,j,k])  #A[l,j,k]*B[l,j,k]\n",
        "            return np.sum(window)\n",
        "\n",
        "        def mul_channel( weight,bias, x_pad, n_H, n_W,f):\n",
        "              Z = np.zeros(( n_H, n_W ))\n",
        "              for h in range(n_H):\n",
        "                  for w in range(n_W):\n",
        "                      vert_start = h\n",
        "                      vert_end = vert_start + f\n",
        "                      horiz_start = w\n",
        "                      horiz_end = horiz_start + f\n",
        "            \n",
        "                      x_slice = x_pad[:, vert_start:vert_end, horiz_start:horiz_end]  \n",
        "                      Z[ h, w] = appx_mul(x_slice,weight)  #torch.matmul(A,B)\n",
        "                      Z[ h, w] += bias\n",
        "              return Z\n",
        "      \n",
        "        X_pad = F.pad(X, (padding[0],padding[0],padding[0],padding[0]))\n",
        "        weight = weight.data.numpy()\n",
        "        bias = bias.data.numpy()\n",
        "        X_pad = X_pad.data.numpy()\n",
        "\n",
        "        Z = np.zeros((m, n_C, n_H, n_W ))     \n",
        "         \n",
        "        for i in range(m):\n",
        "          #for c in range(n_C):\n",
        "            #Z[i,c] = mul_channel( weight[c, :, :, :],bias[c], X_pad[0], n_H, n_W, f) \n",
        "            #x_pad = X[0]\n",
        "            Z[0] = Parallel(n_jobs=8)(delayed(mul_channel)( weight[c, :, :, :],bias[c], X_pad[0], n_H, n_W, f)  for c in  range(n_C) )\n",
        "        #print(\"forward\")    \n",
        "        return torch.from_numpy(Z).float()\n",
        "\n",
        "    @staticmethod\n",
        "    def backward(ctx, grad_output):\n",
        "        x, weight, bias = ctx.saved_tensors \n",
        "\n",
        "        grad_input = grad_weight = grad_bias = None\n",
        "\n",
        "        def convolutionBackward(dconv_prev, conv_in, weight, padding =1, stride=1):\n",
        "            (m, n_C_prev, n_H_prev, n_W_prev) = conv_in.shape\n",
        "            (n_C, n_C_prev, f, f) = weight.shape\n",
        "            (m, n_C, n_H, n_W) = dconv_prev.shape\n",
        "\n",
        "            dA_prev = torch.zeros((m, n_C_prev, n_H_prev, n_W_prev))\n",
        "            dW = torch.zeros((n_C, n_C_prev, f, f))\n",
        "            db = torch.zeros((n_C))\n",
        "            X_pad = F.pad(conv_in, (padding,padding,padding,padding))\n",
        "            dA_prev_pad = F.pad(dA_prev, (padding,padding,padding,padding))\n",
        "\n",
        "            for i in range(m):\n",
        "                x_pad = X_pad[i]\n",
        "                da_prev_pad = dA_prev_pad[i]\n",
        "              \n",
        "                for c in range(n_C):\n",
        "                    for h in range(n_H):\n",
        "                        for w in range(n_W):\n",
        "                            vert_start = h + h * (stride - 1)\n",
        "                            vert_end = vert_start + f\n",
        "                            horiz_start = w + w * (stride - 1)\n",
        "                            horiz_end = horiz_start + f\n",
        "\n",
        "                            x_slice = x_pad[:, vert_start:vert_end, horiz_start:horiz_end]\n",
        "\n",
        "                            da_prev_pad[:, vert_start:vert_end, horiz_start:horiz_end] += weight[c, :, :, :] * dconv_prev[i, c, h, w]\n",
        "                        \n",
        "                            dW[c,:,:,:] += x_slice * dconv_prev[i, c, h, w]\n",
        "                            \n",
        "                            db[c] += dconv_prev[i, c, h, w]  \n",
        "                if padding == 0:\n",
        "                  dA_prev[i, :, :, :] = da_prev_pad[:]\n",
        "                else:\n",
        "                  dA_prev[i, :, :, :] = da_prev_pad[:, padding:-padding, padding:-padding] \n",
        "          \n",
        "            return dA_prev, dW, db\n",
        "                                                                                                                                                                                                                                                                                                                                                                                                                                                                                                                                                                                                                                                                                                                                                                                                                                                                                                                                                                                                                                                                                                                                                                                                                                                                                                                                                                                                                                                                                                                                                                                                                                                                                                                                                                                                                                                                                                                                                                                                                                                                                                                                                                                                                                                                                                                                                                                                                                                                                                                                                                                                                                                                                                                                                                                                                                                                                                                                                                                                                                                                                                                                                                                                                                                                                                                                                                                                                                                                                                                                                                                                                                                                                                                                                                                                                                                                                                                                                                                                                                                                                                                                                                                                                                                                                                                                                                                                                                                                                                                                                                                                                                                                                                                                                                                                                                                                                                                                                                                                                                                                                                                                                                                                                                                                                                                                                                                                                                                                                                                                                                                                                                                                                                                                                                                                                                                                                                                                                                                                                                                                                                                                                                                                                                                                                                                                                                                                                                                                                                                                                                                                                                                                                                                                                                                                                                                                                                                                                                                                                                                                                                                                                                                                                                                                                                                                                                                                  \n",
        "        grad_input, grad_weight, grad_bias = convolutionBackward(grad_output, x, weight)\n",
        "        grad_bias = grad_bias.squeeze()\n",
        "        #print(\"Backward!\")\n",
        "        return grad_input, grad_weight, grad_bias, None,None   \n",
        "\n",
        "class MyConv2d(nn.Module):\n",
        "    def __init__(self, n_channels, out_channels, kernel_size , padding, stride, dilation=1):\n",
        "        super(MyConv2d, self).__init__()\n",
        "\n",
        "        self.kernel_size = (kernel_size, kernel_size)\n",
        "        self.kernal_size_number = kernel_size * kernel_size\n",
        "        self.out_channels = out_channels\n",
        "        self.dilation = (dilation, dilation)\n",
        "        self.padding = (padding, padding)\n",
        "        self.stride = (stride, stride)\n",
        "        self.n_channels = n_channels\n",
        "        self.weight = nn.Parameter(torch.rand(self.out_channels, self.n_channels, self.kernel_size[0] , self.kernel_size[1] ))\n",
        "        self.bias = nn.Parameter(torch.rand(self.out_channels))\n",
        "\n",
        "    def forward(self, x):\n",
        "        res = convAppx.apply(x, self.weight, self.bias, self.padding, self.stride)\n",
        "\n",
        "        return res"
      ],
      "execution_count": null,
      "outputs": []
    },
    {
      "cell_type": "markdown",
      "metadata": {
        "id": "5hIRC4sUgfC9"
      },
      "source": [
        "# Approximate Fully Connected Layer"
      ]
    },
    {
      "cell_type": "code",
      "metadata": {
        "id": "mFEvvmdNgaYc"
      },
      "source": [
        "class linear_appx(torch.autograd.Function):\n",
        "    @staticmethod\n",
        "    def forward(ctx, input, weight, bias):\n",
        "        ctx.save_for_backward(input, weight, bias)\n",
        "\n",
        "        input = input.data.numpy()\n",
        "        weight = weight.data.numpy()\n",
        "        bias = bias.data.numpy()\n",
        "        def appx_mul(A,B):\n",
        "          window = np.zeros((A.shape[0],B.shape[1] ))\n",
        "          for k in range(A.shape[0]):\n",
        "            for l in range(B.shape[1]):\n",
        "              for j in range(A.shape[1]):\n",
        "                  window[k,l] +=  FP_appx_mul(A[k,j],B[j,l])\n",
        "          return window\n",
        "\n",
        "        #output = input.mm(weight.t()) + bias\n",
        "        output = appx_mul(input,np.transpose(weight)) + bias\n",
        "        return torch.from_numpy(output).float()\n",
        "\n",
        "    @staticmethod\n",
        "    def backward(ctx, grad_output):\n",
        "        input, weight, bias = ctx.saved_tensors\n",
        "\n",
        "        grad_input = grad_output.mm(weight.float())\n",
        "        grad_weight = grad_output.t().mm(input.float())\n",
        "        grad_bias = grad_output.sum(0)\n",
        "        return grad_input, grad_weight, grad_bias\n",
        "\n",
        "\n",
        "class MyLinear(nn.Module):\n",
        "    def __init__(self,in_features, out_features ):\n",
        "        super(MyLinear, self).__init__()\n",
        "        self.fn = linear_appx.apply\n",
        "        self.in_features = in_features\n",
        "        self.out_features = out_features\n",
        "        self.weight = torch.nn.Parameter(torch.randn(out_features, in_features))\n",
        "        self.bias = torch.nn.Parameter(torch.randn(out_features))\n",
        "\n",
        "    def forward(self, x):\n",
        "        x = self.fn(x, self.weight, self.bias)\n",
        "        return x"
      ],
      "execution_count": null,
      "outputs": []
    },
    {
      "cell_type": "markdown",
      "metadata": {
        "id": "uLLXWZm4g5fl"
      },
      "source": [
        "# Test Approximate Model with MNIST"
      ]
    },
    {
      "cell_type": "code",
      "metadata": {
        "colab": {
          "base_uri": "https://localhost:8080/",
          "height": 534,
          "referenced_widgets": [
            "4f7641b4d1994d9aa6e0acd1cba7c3d0",
            "1a7be1f21ca94026a3cb605a30d912f0",
            "506bb8ddde1e4084b3c684983745bf95",
            "31f72f74e9dc44f29184af16e1fad7b3",
            "ecfc57472f094eacb76aa56f54dfea03",
            "9a99d32c4a0c4404aa104653444735aa",
            "36ffd69fa3c54f6a9e5322723221a541",
            "a1e6be5c90864332aaa71e4208afdf9a",
            "5fb5d0f14c314a90aa55bd8cae97ac61",
            "2922f6ee7619425d86efb35404a644dd",
            "23eab25e0bba4dfea586f72e1fa2fd59",
            "596208ccaac34d2eaab1b6a262e9332b",
            "7bde53c1661444018f3ae3192b3c1551",
            "82e5d44c098e4721bbfd5192e2357e80",
            "ffb265aed3ae417f9f36dbd6f39d1632",
            "2415001c6847411faf677f9a483701c9",
            "e16537cd9a014951bb77bfb4dc7aebd1",
            "5c04541fba5d456c922c409e623cc5c6",
            "9c683303b05c45378058be923dc9be79",
            "30626ea4103d40e496cbbca35563be6f",
            "bd025706665f4c718924304fe827ef6f",
            "a8621dd98fed455f81ebc3f79a176cc9",
            "7127ac4dc76b4d628558f3559b8a7e7a",
            "8509851286a6469089dcdc3e1a216c1d",
            "df3663de4dad4aac916c8e7e59bec8e5",
            "6716b8273f3e49d7abb87bc320685b95",
            "b03292c5dde14fd08b540da9f44e33b1",
            "8b751541995047c28aa626b71ab7b61f",
            "5ff0087398144d20b1633031dbedda90",
            "0b87596296ea437a8f0378fe521c091d",
            "87b92e86d2654970a964770523d73aff",
            "823118b915a84ff1849c0bdd2eb3c526"
          ]
        },
        "id": "6l7XRiOchBMn",
        "outputId": "14ba3502-cd63-4c97-8b0d-7ec9c72c7b44"
      },
      "source": [
        "#Import data\n",
        "from torchvision import datasets\n",
        "import torchvision.transforms as transforms\n",
        "batch_size = 1000\n",
        "test_loader = torch.utils.data.DataLoader(\n",
        "    datasets.MNIST(root='./data', train=False, download=True,\n",
        "                   transform=transforms.ToTensor()),\n",
        "    batch_size=batch_size, shuffle=False)\n",
        "\n",
        "for data, label in test_loader:\n",
        "    break\n",
        "data, label = data, label"
      ],
      "execution_count": null,
      "outputs": [
        {
          "output_type": "stream",
          "text": [
            "Downloading http://yann.lecun.com/exdb/mnist/train-images-idx3-ubyte.gz\n",
            "Downloading http://yann.lecun.com/exdb/mnist/train-images-idx3-ubyte.gz to ./data/MNIST/raw/train-images-idx3-ubyte.gz\n"
          ],
          "name": "stdout"
        },
        {
          "output_type": "display_data",
          "data": {
            "application/vnd.jupyter.widget-view+json": {
              "model_id": "4f7641b4d1994d9aa6e0acd1cba7c3d0",
              "version_minor": 0,
              "version_major": 2
            },
            "text/plain": [
              "HBox(children=(FloatProgress(value=0.0, max=9912422.0), HTML(value='')))"
            ]
          },
          "metadata": {
            "tags": []
          }
        },
        {
          "output_type": "stream",
          "text": [
            "\n",
            "Extracting ./data/MNIST/raw/train-images-idx3-ubyte.gz to ./data/MNIST/raw\n",
            "\n",
            "Downloading http://yann.lecun.com/exdb/mnist/train-labels-idx1-ubyte.gz\n",
            "Downloading http://yann.lecun.com/exdb/mnist/train-labels-idx1-ubyte.gz to ./data/MNIST/raw/train-labels-idx1-ubyte.gz\n"
          ],
          "name": "stdout"
        },
        {
          "output_type": "display_data",
          "data": {
            "application/vnd.jupyter.widget-view+json": {
              "model_id": "5fb5d0f14c314a90aa55bd8cae97ac61",
              "version_minor": 0,
              "version_major": 2
            },
            "text/plain": [
              "HBox(children=(FloatProgress(value=0.0, max=28881.0), HTML(value='')))"
            ]
          },
          "metadata": {
            "tags": []
          }
        },
        {
          "output_type": "stream",
          "text": [
            "\n",
            "Extracting ./data/MNIST/raw/train-labels-idx1-ubyte.gz to ./data/MNIST/raw\n",
            "\n",
            "Downloading http://yann.lecun.com/exdb/mnist/t10k-images-idx3-ubyte.gz\n",
            "Downloading http://yann.lecun.com/exdb/mnist/t10k-images-idx3-ubyte.gz to ./data/MNIST/raw/t10k-images-idx3-ubyte.gz\n"
          ],
          "name": "stdout"
        },
        {
          "output_type": "display_data",
          "data": {
            "application/vnd.jupyter.widget-view+json": {
              "model_id": "e16537cd9a014951bb77bfb4dc7aebd1",
              "version_minor": 0,
              "version_major": 2
            },
            "text/plain": [
              "HBox(children=(FloatProgress(value=0.0, max=1648877.0), HTML(value='')))"
            ]
          },
          "metadata": {
            "tags": []
          }
        },
        {
          "output_type": "stream",
          "text": [
            "\n",
            "Extracting ./data/MNIST/raw/t10k-images-idx3-ubyte.gz to ./data/MNIST/raw\n",
            "\n",
            "Downloading http://yann.lecun.com/exdb/mnist/t10k-labels-idx1-ubyte.gz\n",
            "Downloading http://yann.lecun.com/exdb/mnist/t10k-labels-idx1-ubyte.gz to ./data/MNIST/raw/t10k-labels-idx1-ubyte.gz\n"
          ],
          "name": "stdout"
        },
        {
          "output_type": "display_data",
          "data": {
            "application/vnd.jupyter.widget-view+json": {
              "model_id": "df3663de4dad4aac916c8e7e59bec8e5",
              "version_minor": 0,
              "version_major": 2
            },
            "text/plain": [
              "HBox(children=(FloatProgress(value=0.0, max=4542.0), HTML(value='')))"
            ]
          },
          "metadata": {
            "tags": []
          }
        },
        {
          "output_type": "stream",
          "text": [
            "\n",
            "Extracting ./data/MNIST/raw/t10k-labels-idx1-ubyte.gz to ./data/MNIST/raw\n",
            "\n"
          ],
          "name": "stdout"
        },
        {
          "output_type": "stream",
          "text": [
            "/usr/local/lib/python3.7/dist-packages/torchvision/datasets/mnist.py:498: UserWarning: The given NumPy array is not writeable, and PyTorch does not support non-writeable tensors. This means you can write to the underlying (supposedly non-writeable) NumPy array using the tensor. You may want to copy the array to protect its data or make it writeable before converting it to a tensor. This type of warning will be suppressed for the rest of this program. (Triggered internally at  /pytorch/torch/csrc/utils/tensor_numpy.cpp:180.)\n",
            "  return torch.from_numpy(parsed.astype(m[2], copy=False)).view(*s)\n"
          ],
          "name": "stderr"
        }
      ]
    },
    {
      "cell_type": "code",
      "metadata": {
        "colab": {
          "base_uri": "https://localhost:8080/"
        },
        "id": "yEtEi5-8jvxy",
        "outputId": "6941152d-4998-42e5-927f-a55bb8865a1b"
      },
      "source": [
        "class exact_model(nn.Module):\n",
        "\n",
        "    def __init__(self):\n",
        "        super(exact_model, self).__init__()\n",
        "        self.conv1 = nn.Conv2d(1, 32, kernel_size=3, padding=1, stride=1)\n",
        "        self.relu1 = nn.ReLU(inplace=True)\n",
        "        self.maxpool1 = nn.MaxPool2d(2)\n",
        "        self.conv2 = nn.Conv2d(32, 64, kernel_size=3, padding=1, stride=1)\n",
        "        self.relu2 = nn.ReLU(inplace=True)\n",
        "        self.maxpool2 = nn.MaxPool2d(2)\n",
        "        self.linear1 = nn.Linear(7 * 7 * 64, 200)\n",
        "        self.relu3 = nn.ReLU(inplace=True)\n",
        "        self.linear2 = nn.Linear(200, 10)\n",
        "\n",
        "    def forward(self, x):\n",
        "        x = self.maxpool1(self.relu1(self.conv1(x)))\n",
        "        x = self.maxpool2(self.relu2(self.conv2(x)))\n",
        "        x = x.view(x.size(0), -1)\n",
        "        x = self.relu3(self.linear1(x))\n",
        "        x = self.linear2(x)\n",
        "        #x = F.softmax(x, dim = 1)\n",
        "        return x\n",
        "    \n",
        "model_exact = exact_model()\n",
        "filename = \"trained_lenet5.pt\"\n",
        "\n",
        "model_exact.load_state_dict(torch.load(filename, map_location=torch.device('cpu') ))\n",
        "model_exact.eval()"
      ],
      "execution_count": null,
      "outputs": [
        {
          "output_type": "execute_result",
          "data": {
            "text/plain": [
              "exact_model(\n",
              "  (conv1): Conv2d(1, 32, kernel_size=(3, 3), stride=(1, 1), padding=(1, 1))\n",
              "  (relu1): ReLU(inplace=True)\n",
              "  (maxpool1): MaxPool2d(kernel_size=2, stride=2, padding=0, dilation=1, ceil_mode=False)\n",
              "  (conv2): Conv2d(32, 64, kernel_size=(3, 3), stride=(1, 1), padding=(1, 1))\n",
              "  (relu2): ReLU(inplace=True)\n",
              "  (maxpool2): MaxPool2d(kernel_size=2, stride=2, padding=0, dilation=1, ceil_mode=False)\n",
              "  (linear1): Linear(in_features=3136, out_features=200, bias=True)\n",
              "  (relu3): ReLU(inplace=True)\n",
              "  (linear2): Linear(in_features=200, out_features=10, bias=True)\n",
              ")"
            ]
          },
          "metadata": {
            "tags": []
          },
          "execution_count": 38
        }
      ]
    },
    {
      "cell_type": "code",
      "metadata": {
        "colab": {
          "base_uri": "https://localhost:8080/"
        },
        "id": "TsB-7XgDkWrB",
        "outputId": "a623866f-0a0f-4031-ec8f-26f169825806"
      },
      "source": [
        "class appx_model(nn.Module):\n",
        "    def __init__(self):\n",
        "        super(appx_model, self).__init__()\n",
        "        self.conv1 = MyConv2d(1, 32, 3, stride=1, padding=1)\n",
        "        self.relu1 = nn.ReLU(inplace=True)\n",
        "        self.maxpool1 = nn.MaxPool2d(2)\n",
        "        self.conv2 = MyConv2d(32, 64,3, stride=1, padding=1)\n",
        "        self.relu2 = nn.ReLU(inplace=True)\n",
        "        self.maxpool2 = nn.MaxPool2d(2)\n",
        "        self.linear1 = MyLinear(7 * 7 * 64, 200)\n",
        "        self.relu3 = nn.ReLU(inplace=True)\n",
        "        self.linear2 = MyLinear(200, 10)\n",
        "\n",
        "    def forward(self, x):\n",
        "        x = self.conv1(x)\n",
        "        x = self.maxpool1(self.relu1(x))\n",
        "        x = self.maxpool2(self.relu2(self.conv2(x)))\n",
        "        x = x.view(x.size(0), -1)\n",
        "        x = self.relu3(self.linear1(x))\n",
        "        x = self.linear2(x)\n",
        "        #x = F.softmax(x, dim=1)\n",
        "        return x\n",
        "    \n",
        "model_appx = appx_model()\n",
        "model_appx.load_state_dict(torch.load(filename, map_location=torch.device('cpu') ))\n",
        "model_appx.eval() "
      ],
      "execution_count": null,
      "outputs": [
        {
          "output_type": "execute_result",
          "data": {
            "text/plain": [
              "appx_model(\n",
              "  (conv1): MyConv2d()\n",
              "  (relu1): ReLU(inplace=True)\n",
              "  (maxpool1): MaxPool2d(kernel_size=2, stride=2, padding=0, dilation=1, ceil_mode=False)\n",
              "  (conv2): MyConv2d()\n",
              "  (relu2): ReLU(inplace=True)\n",
              "  (maxpool2): MaxPool2d(kernel_size=2, stride=2, padding=0, dilation=1, ceil_mode=False)\n",
              "  (linear1): MyLinear()\n",
              "  (relu3): ReLU(inplace=True)\n",
              "  (linear2): MyLinear()\n",
              ")"
            ]
          },
          "metadata": {
            "tags": []
          },
          "execution_count": 49
        }
      ]
    },
    {
      "cell_type": "code",
      "metadata": {
        "colab": {
          "base_uri": "https://localhost:8080/"
        },
        "id": "3QO6Ao4JkeTO",
        "outputId": "484857bb-18df-48f9-aeef-b6cc07062dcd"
      },
      "source": [
        "i =  0\n",
        "x = data[i].unsqueeze(0)\n",
        "y = label[i].unsqueeze(0)\n",
        "\n",
        "scores_exact = model_exact(x)\n",
        "pred_exact = model_exact(x).data.max(1, keepdim=True)[1][0].item() \n",
        "print(\"Scores exact:\", scores_exact)\n",
        "print(\"Prediction exact:\", pred_exact)\n",
        "\n",
        "scores_appx = model_appx(x)\n",
        "pred_appx = model_appx(x).data.max(1, keepdim=True)[1][0].item() \n",
        "print(\"Scores approximate:\", scores_appx)\n",
        "print(\"Prediction approximate:\", pred_appx)"
      ],
      "execution_count": null,
      "outputs": [
        {
          "output_type": "stream",
          "text": [
            "Scores exact: tensor([[ -4.9248,  -1.6787,   1.7533,   2.3358,  -7.6406,  -3.2882, -22.0243,\n",
            "          14.6021,  -1.9173,   2.2584]], grad_fn=<AddmmBackward>)\n",
            "Prediction exact: 7\n",
            "Scores approximate: tensor([[-20.9173, -12.7048,   8.2331,  14.1789, -24.7654, -24.1655, -88.4965,\n",
            "          55.2600,  -2.4204,  12.6122]], grad_fn=<linear_appxBackward>)\n",
            "Prediction approximate: 7\n"
          ],
          "name": "stdout"
        }
      ]
    }
  ]
}
